{
 "cells": [
  {
   "cell_type": "code",
   "execution_count": 12,
   "metadata": {},
   "outputs": [
    {
     "name": "stdout",
     "output_type": "stream",
     "text": [
      "Enter into the string.\n",
      "Here you go, the program is ready\n",
      "Enter the length k to compare :3\n",
      "['Here', 'program', 'ready']\n"
     ]
    }
   ],
   "source": [
    "# find words that are greater than length k\n",
    "\n",
    "def newl_k(k,l):\n",
    "    t=[]\n",
    "    txt = l.split(\" \")\n",
    "    for x in txt:           #loop iterates till words in the txt, x is taking words in it\n",
    "        if len(x) > k:\n",
    "            t.append(x)\n",
    "    return t\n",
    "    \n",
    "# main     \n",
    "l=[]\n",
    "print('Enter into the string.')\n",
    "l=input()\n",
    "k=int(input('Enter the length k to compare :'))\n",
    "print(newl_k(k,l))"
   ]
  },
  {
   "cell_type": "code",
   "execution_count": 13,
   "metadata": {},
   "outputs": [
    {
     "name": "stdout",
     "output_type": "stream",
     "text": [
      "Enter into the string.\n",
      "Here, we go again\n",
      "Enter the i-th place value:5\n",
      "The new string is: Here,we go again\n"
     ]
    }
   ],
   "source": [
    "# removing i-th character from the string\n",
    "\n",
    "print('Enter into the string.')\n",
    "l=[]\n",
    "l=str(input())\n",
    "    \n",
    "i=int(input('Enter the i-th place value:'))\n",
    "new_l=l[:i]+l[i+1:]\n",
    "print('The new string is:',new_l)"
   ]
  },
  {
   "cell_type": "code",
   "execution_count": 14,
   "metadata": {},
   "outputs": [
    {
     "name": "stdout",
     "output_type": "stream",
     "text": [
      "Enter into the string\n",
      "Again and Again, yeah!\n",
      "The splitted string is: ['Again', 'and', 'Again,', 'yeah!']\n",
      "The string after joining again is: Again and Again, yeah!\n"
     ]
    }
   ],
   "source": [
    "#split and join string\n",
    "\n",
    "print('Enter into the string')\n",
    "l=[]\n",
    "l=str(input())\n",
    "\n",
    "#spliting the string\n",
    "l_split= l.split(' ')   # there is space within quotes\n",
    "print('The splitted string is:',l_split)\n",
    "\n",
    "#joining the string\n",
    "l_join=' '.join(l_split)    # there is space within quotes\n",
    "print('The string after joining again is:',l_join)"
   ]
  },
  {
   "cell_type": "code",
   "execution_count": 8,
   "metadata": {},
   "outputs": [
    {
     "name": "stdout",
     "output_type": "stream",
     "text": [
      "Enter into the string\n",
      "0 and 1 but where's the fun.\n",
      "The string is not binary\n"
     ]
    }
   ],
   "source": [
    "# given string is binary or not\n",
    "\n",
    "print('Enter into the string')\n",
    "l=[]\n",
    "l=str(input())\n",
    "\n",
    "t=l.split(\" \")\n",
    "for x in t:\n",
    "    if x==0 or x==1:\n",
    "        c='T'\n",
    "    else:\n",
    "        c='F'\n",
    "if c=='T':\n",
    "    print('The string is binary')\n",
    "else:\n",
    "    print('The string is not binary')"
   ]
  },
  {
   "cell_type": "code",
   "execution_count": 15,
   "metadata": {},
   "outputs": [
    {
     "name": "stdout",
     "output_type": "stream",
     "text": [
      "Enter into the two strings.\n",
      "l=Hi nice to meet you\n",
      "t=Hope you have a nice day\n",
      "The uncommon words are: ['Hi', 'to', 'meet', 'Hope', 'have', 'a', 'day']\n"
     ]
    }
   ],
   "source": [
    "#find uncommon word from two strings\n",
    "\n",
    "print('Enter into the two strings.')\n",
    "l=[]\n",
    "t=[]\n",
    "un=[]\n",
    "l=str(input('l='))\n",
    "t=str(input('t='))\n",
    "txt1=l.split(' ')\n",
    "txt2=t.split(' ')\n",
    "for x in txt1:\n",
    "    if x not in txt2:\n",
    "        un.append(x)\n",
    "for y in txt2:\n",
    "    if y not in txt1:\n",
    "        un.append(y)\n",
    "print('The uncommon words are:',un)    "
   ]
  },
  {
   "cell_type": "code",
   "execution_count": 6,
   "metadata": {},
   "outputs": [
    {
     "name": "stdout",
     "output_type": "stream",
     "text": [
      "Enter into the string\n",
      "here we are\n",
      "The duplicate characters in the string are:\n",
      "(e, 4)\n",
      "(r, 2)\n",
      "( , 2)\n"
     ]
    }
   ],
   "source": [
    "# find all duplicate characters in a string\n",
    "\n",
    "from collections import Counter\n",
    "  \n",
    "def dup(l):\n",
    "    WC = Counter(l)\n",
    "\n",
    "    for key in WC.keys():\n",
    "        if WC.get(key)> 1 :\n",
    "            print(\"(\" + key + \", \" + str(WC.get(key)) + \")\")\n",
    "#main\n",
    "print('Enter into the string')\n",
    "l=[]\n",
    "l=str(input())\n",
    "print('The duplicate characters in the string are:')\n",
    "dup(l)\n",
    "\n",
    "#(Learnt about python counter in collection )"
   ]
  },
  {
   "cell_type": "code",
   "execution_count": 5,
   "metadata": {},
   "outputs": [
    {
     "name": "stdout",
     "output_type": "stream",
     "text": [
      "Enter into the string\n",
      "@##4!\n",
      "The string contain special character.\n"
     ]
    }
   ],
   "source": [
    "#check if the string contains special characters\n",
    "\n",
    "import re\n",
    "\n",
    "print('Enter into the string')\n",
    "l=[]\n",
    "l=str(input())\n",
    "s= re.compile('[@_!#$%^&*()<>?/\\|}{~:]')\n",
    "\n",
    "if (s.search(l)==None):\n",
    "    print(\"The string doesn't contain special character.\")\n",
    "else:\n",
    "    print('The string contain special character.')\n",
    "    \n",
    "#( Learnt about re package in python. re.compile is used to pattern matching)    "
   ]
  },
  {
   "cell_type": "code",
   "execution_count": null,
   "metadata": {},
   "outputs": [],
   "source": []
  }
 ],
 "metadata": {
  "kernelspec": {
   "display_name": "Python 3",
   "language": "python",
   "name": "python3"
  },
  "language_info": {
   "codemirror_mode": {
    "name": "ipython",
    "version": 3
   },
   "file_extension": ".py",
   "mimetype": "text/x-python",
   "name": "python",
   "nbconvert_exporter": "python",
   "pygments_lexer": "ipython3",
   "version": "3.8.5"
  }
 },
 "nbformat": 4,
 "nbformat_minor": 4
}
