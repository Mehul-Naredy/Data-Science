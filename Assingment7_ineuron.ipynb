{
 "cells": [
  {
   "cell_type": "code",
   "execution_count": 13,
   "metadata": {},
   "outputs": [
    {
     "name": "stdout",
     "output_type": "stream",
     "text": [
      "Enter the length of the array:5\n",
      "Insert 5 elements in the array:\n",
      "1\n",
      "2\n",
      "3\n",
      "4\n",
      "5\n",
      "The array is: array('i', [1, 2, 3, 4, 5])\n",
      "The sum of elements of array is: 15\n"
     ]
    }
   ],
   "source": [
    "# sum of array\n",
    "import array as arr\n",
    "\n",
    "a=arr.array('i',[])\n",
    "n=int(input('Enter the length of the array:'))\n",
    "print('Insert',n,'elements in the array:')\n",
    "for i in range(0,n):\n",
    "    a.insert(i,int(input()))\n",
    "print('The array is:',a)\n",
    "\n",
    "#sum of elements\n",
    "S=0\n",
    "for j in range(0,n):\n",
    "    S+=a[j]\n",
    "print('The sum of elements of array is:',S)   "
   ]
  },
  {
   "cell_type": "code",
   "execution_count": 16,
   "metadata": {},
   "outputs": [
    {
     "name": "stdout",
     "output_type": "stream",
     "text": [
      "Enter the length of the array:5\n",
      "Insert 5 elements in the array:\n",
      "1\n",
      "48\n",
      "76\n",
      "524\n",
      "987\n",
      "The array is: array('i', [1, 48, 76, 524, 987])\n",
      "Largest element of the array is: 987\n"
     ]
    }
   ],
   "source": [
    "#Largest element in the array\n",
    "import array as arr\n",
    "\n",
    "a=arr.array('i',[])\n",
    "n=int(input('Enter the length of the array:'))\n",
    "print('Insert',n,'elements in the array:')\n",
    "for i in range(0,n):\n",
    "    a.insert(i,int(input()))\n",
    "print('The array is:',a)\n",
    "\n",
    "#Largest element\n",
    "for j in range(1,n):\n",
    "    lar=max(a[j-1],a[j])\n",
    "print('Largest element of the array is:',lar)    "
   ]
  },
  {
   "cell_type": "code",
   "execution_count": 19,
   "metadata": {},
   "outputs": [
    {
     "name": "stdout",
     "output_type": "stream",
     "text": [
      "Enter the length of the array:4\n",
      "Insert 4 elements in the array:\n",
      "1\n",
      "2\n",
      "3\n",
      "4\n",
      "The array is: array('i', [1, 2, 3, 4])\n",
      "Enter the number of rotation you seek:1\n",
      "Enter the choice of direction: Enter-1 for Right-rotation or Enter-2 for left-rotation: 2\n",
      "After 1 rotations the array is: array('i', [4, 1, 2, 3])\n"
     ]
    }
   ],
   "source": [
    "#Array rotation\n",
    "\n",
    "import array as arr\n",
    "\n",
    "a=arr.array('i',[])\n",
    "n=int(input('Enter the length of the array:'))\n",
    "print('Insert',n,'elements in the array:')\n",
    "for i in range(0,n):\n",
    "    a.insert(i,int(input()))\n",
    "print('The array is:',a)\n",
    "\n",
    "#rotation\n",
    "r=int(input('Enter the number of rotation you seek:'))\n",
    "d=int(input('Enter the choice of direction: Enter-1 for Right-rotation or Enter-2 for left-rotation: '))\n",
    "if d==1:\n",
    "    for j in range(0,r):\n",
    "        a.append(a[j])\n",
    "        a.pop(j)\n",
    "elif d==2:  \n",
    "    count=0\n",
    "    for j in range(len(a)-1,0,-1):\n",
    "        a.insert(0,a[j])\n",
    "        a.pop(j+1)\n",
    "        count+=1\n",
    "        if count==r:\n",
    "            break\n",
    "print(\"After\",r,\"rotations the array is:\",a)        "
   ]
  },
  {
   "cell_type": "code",
   "execution_count": 15,
   "metadata": {},
   "outputs": [
    {
     "name": "stdout",
     "output_type": "stream",
     "text": [
      "Enter the length of the array:4\n",
      "Insert 4 elements in the array:\n",
      "1\n",
      "2\n",
      "3\n",
      "4\n",
      "The array is: array('i', [1, 2, 3, 4])\n",
      "idex value where to split: 2\n",
      "The array after split and addinf at end is:  array('i', [3, 4, 1, 2, 3])\n"
     ]
    }
   ],
   "source": [
    "#Split the array and add the first to end\n",
    "\n",
    "import array as arr\n",
    "\n",
    "a=arr.array('i',[])\n",
    "n=int(input('Enter the length of the array:'))\n",
    "print('Insert',n,'elements in the array:')\n",
    "for i in range(0,n):\n",
    "    a.insert(i,int(input()))\n",
    "print('The array is:',a)\n",
    "\n",
    "# Split and add first part to end\n",
    "\n",
    "s=int(input(\"idex value where to split: \"))\n",
    "for i in range(0,s+1):\n",
    "    t=a[i]\n",
    "    a.append(t)\n",
    "\n",
    "c=t=0\n",
    "while c!=s:\n",
    "    a.pop(t)\n",
    "    c+=1\n",
    "print(\"The array after split and addinf at end is: \",a)    \n"
   ]
  },
  {
   "cell_type": "code",
   "execution_count": 11,
   "metadata": {},
   "outputs": [
    {
     "name": "stdout",
     "output_type": "stream",
     "text": [
      "Enter the length of the array:4\n",
      "Insert 4 elements in the array:\n",
      "5\n",
      "6\n",
      "1\n",
      "8\n",
      "The array is: array('i', [5, 6, 1, 8])\n",
      "The array is monotone:  False\n"
     ]
    }
   ],
   "source": [
    "#Check array is monotone.\n",
    "\n",
    "#checking\n",
    "def isMonotonic(A):\n",
    "  \n",
    "    return (all(A[i] <= A[i + 1] for i in range(len(A) - 1)) or\n",
    "            all(A[i] >= A[i + 1] for i in range(len(A) - 1)))\n",
    "\n",
    "#Main\n",
    "\n",
    "import array as arr\n",
    "\n",
    "a=arr.array('i',[])\n",
    "n=int(input('Enter the length of the array:'))\n",
    "print('Insert',n,'elements in the array:')\n",
    "for i in range(0,n):\n",
    "    a.insert(i,int(input()))\n",
    "print('The array is:',a)\n",
    "\n",
    "print(\"The array is monotone: \",isMonotonic(a))"
   ]
  }
 ],
 "metadata": {
  "kernelspec": {
   "display_name": "Python 3",
   "language": "python",
   "name": "python3"
  },
  "language_info": {
   "codemirror_mode": {
    "name": "ipython",
    "version": 3
   },
   "file_extension": ".py",
   "mimetype": "text/x-python",
   "name": "python",
   "nbconvert_exporter": "python",
   "pygments_lexer": "ipython3",
   "version": "3.8.5"
  }
 },
 "nbformat": 4,
 "nbformat_minor": 4
}
