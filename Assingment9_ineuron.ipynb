{
 "cells": [
  {
   "cell_type": "code",
   "execution_count": 6,
   "metadata": {},
   "outputs": [
    {
     "name": "stdout",
     "output_type": "stream",
     "text": [
      "Enter the number:89\n",
      "The number 89 is a disarium number.\n"
     ]
    }
   ],
   "source": [
    "#check the number is disarium number\n",
    "\n",
    "t=int(input('Enter the number:'))\n",
    "n=t\n",
    "c=disarium=0\n",
    "#no of digits in the number\n",
    "while n!=0:\n",
    "    n=n//10\n",
    "    c+=1\n",
    "#checking for disarium number    \n",
    "n=t    \n",
    "while n!=0: \n",
    "    d=n%10\n",
    "    n=n//10\n",
    "    disarium+=d**c\n",
    "    c-=1\n",
    "if disarium==t :\n",
    "    print(\"The number\",t,\"is a disarium number.\")\n",
    "else:\n",
    "    print(\"The number is not disarium number.\")"
   ]
  },
  {
   "cell_type": "code",
   "execution_count": 4,
   "metadata": {},
   "outputs": [
    {
     "name": "stdout",
     "output_type": "stream",
     "text": [
      "THe disarium number between 1 to 100 are :\n",
      "1\n",
      "2\n",
      "3\n",
      "4\n",
      "5\n",
      "6\n",
      "7\n",
      "8\n",
      "9\n",
      "89\n"
     ]
    }
   ],
   "source": [
    "#disarium number betwen 1 to 100\n",
    "\n",
    "print('THe disarium number between 1 to 100 are :')\n",
    "for i in range(1,100):\n",
    "    c=disarium=0\n",
    "    n=i\n",
    "    while n!=0:\n",
    "        n=n//10\n",
    "        c+=1      #no of digits\n",
    "    n=i    \n",
    "    while n!=0: \n",
    "        d=n%10\n",
    "        n=n//10\n",
    "        disarium+=d**c\n",
    "        c-=1\n",
    "    if disarium==i:\n",
    "        print(i)"
   ]
  },
  {
   "cell_type": "code",
   "execution_count": 9,
   "metadata": {},
   "outputs": [
    {
     "name": "stdout",
     "output_type": "stream",
     "text": [
      "Enter the number:15\n",
      "THe number is not a happy number.\n"
     ]
    }
   ],
   "source": [
    "# check if the number is a happy number\n",
    "\n",
    "t=int(input('Enter the number:'))\n",
    "n=t\n",
    "v=happy=0\n",
    "while n!=0:\n",
    "    d=n%10\n",
    "    n=n//10\n",
    "    v+=d**2\n",
    "while v!=0:\n",
    "    d=v%10\n",
    "    v=v//10\n",
    "    happy+=d**2\n",
    "if happy==1:\n",
    "    print('The number',t,'is a happy number.')\n",
    "else:\n",
    "    print('THe number is not a happy number.')"
   ]
  },
  {
   "cell_type": "code",
   "execution_count": 10,
   "metadata": {},
   "outputs": [
    {
     "name": "stdout",
     "output_type": "stream",
     "text": [
      "THe happy number between 1 to 100 are :\n",
      "1\n",
      "10\n",
      "13\n",
      "31\n",
      "68\n",
      "86\n"
     ]
    }
   ],
   "source": [
    "# happy number between 1 to 100\n",
    "print('THe happy number between 1 to 100 are :')\n",
    "for i in range(1,100):\n",
    "    n=i\n",
    "    v=happy=0\n",
    "    while n!=0:\n",
    "        d=n%10\n",
    "        n=n//10\n",
    "        v+=d**2\n",
    "    while v!=0:\n",
    "        d=v%10\n",
    "        v=v//10\n",
    "        happy+=d**2\n",
    "    if happy==1:\n",
    "        print(i)"
   ]
  },
  {
   "cell_type": "code",
   "execution_count": 13,
   "metadata": {},
   "outputs": [
    {
     "name": "stdout",
     "output_type": "stream",
     "text": [
      "Enter the number:18\n",
      "THe number 18 is a harshad number.\n"
     ]
    }
   ],
   "source": [
    "# check for harshad number\n",
    "t=int(input('Enter the number:'))\n",
    "n=t\n",
    "s=0\n",
    "while n!=0:\n",
    "    d=n%10\n",
    "    n=n//10\n",
    "    s+=d\n",
    "if (t%s)==0:\n",
    "    print('THe number',t,'is a harshad number.')\n",
    "else:\n",
    "    print('THe number is not harshad number.')"
   ]
  },
  {
   "cell_type": "code",
   "execution_count": 17,
   "metadata": {},
   "outputs": [
    {
     "name": "stdout",
     "output_type": "stream",
     "text": [
      "The pronic number from 1 to 100 is:\n",
      "2\n",
      "6\n",
      "12\n",
      "20\n",
      "30\n",
      "42\n",
      "56\n",
      "72\n",
      "90\n"
     ]
    }
   ],
   "source": [
    "# pronic number from 1 to 100\n",
    "\n",
    "print('The pronic number from 1 to 100 is:')\n",
    "for i in range(1,100):\n",
    "    for j in range(1,i):\n",
    "        if (j*(j+1))==i:\n",
    "            print(i)\n",
    "            break"
   ]
  },
  {
   "cell_type": "code",
   "execution_count": null,
   "metadata": {},
   "outputs": [],
   "source": []
  }
 ],
 "metadata": {
  "kernelspec": {
   "display_name": "Python 3",
   "language": "python",
   "name": "python3"
  },
  "language_info": {
   "codemirror_mode": {
    "name": "ipython",
    "version": 3
   },
   "file_extension": ".py",
   "mimetype": "text/x-python",
   "name": "python",
   "nbconvert_exporter": "python",
   "pygments_lexer": "ipython3",
   "version": "3.8.5"
  }
 },
 "nbformat": 4,
 "nbformat_minor": 4
}
