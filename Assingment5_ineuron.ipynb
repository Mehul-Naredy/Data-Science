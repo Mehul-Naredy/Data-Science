{
 "cells": [
  {
   "cell_type": "code",
   "execution_count": 4,
   "metadata": {},
   "outputs": [
    {
     "name": "stdout",
     "output_type": "stream",
     "text": [
      "Enter the 1st number:8\n",
      "Enter the 2nd number:4\n",
      "The Lcm of  8 and 4 is 8\n"
     ]
    }
   ],
   "source": [
    "#find LCM of two numbers\n",
    "x=int(input(\"Enter the 1st number:\"))\n",
    "y=int(input(\"Enter the 2nd number:\"))\n",
    "greater= max(x,y)\n",
    "for i in range(greater,):\n",
    "    if greater%x==0 and greater%y==0:\n",
    "        print(\"The Lcm of \",x,\"and\",y,\"is\",greater)\n",
    "        break\n",
    "    greater+=1    "
   ]
  },
  {
   "cell_type": "code",
   "execution_count": 8,
   "metadata": {},
   "outputs": [
    {
     "name": "stdout",
     "output_type": "stream",
     "text": [
      "Enter the 1st number:9\n",
      "Enter the 2nd number:10\n",
      "The Hcf of 9 and 10 is 1\n"
     ]
    }
   ],
   "source": [
    "#find HCF of two numbers\n",
    "x=int(input(\"Enter the 1st number:\"))\n",
    "y=int(input(\"Enter the 2nd number:\"))\n",
    "a=1\n",
    "for i in range(1,max(x,y)):\n",
    "    if x%i==0 and y%i==0:\n",
    "        hcf=max(i,a)\n",
    "        a=i\n",
    "print(\"The Hcf of\",x,\"and\",y,\"is\",hcf)"
   ]
  },
  {
   "cell_type": "code",
   "execution_count": 6,
   "metadata": {},
   "outputs": [
    {
     "name": "stdout",
     "output_type": "stream",
     "text": [
      "Enter the decimal number :36\n",
      "The binary of number is :\n",
      "100100\n",
      " The octal value of the number is :\n",
      "044\n",
      " The Hexadecimal Value of the number is : 24\n"
     ]
    }
   ],
   "source": [
    "#Convert decimal to binary,hexadecimal and octal\n",
    "\n",
    "def DecimalToBinary(num):\n",
    "   if num > 1:\n",
    "      DecimalToBinary(num // 2)\n",
    "   print(num % 2, end = '')\n",
    "def DecimalToOctal(h):\n",
    "    if h>1:\n",
    "        DecimalToOctal(h//8)\n",
    "    print(h%8,end='')    \n",
    "def DecToHex(d):\n",
    "    h = int(d)\n",
    "    return hex(h)\n",
    "\n",
    "# main\n",
    "deci=int(input(\"Enter the decimal number :\"))   \n",
    "print(\"The binary of number is :\")\n",
    "DecimalToBinary(deci)\n",
    "print(\"\\n The octal value of the number is :\")\n",
    "DecimalToOctal(deci)\n",
    "hdn = DecToHex(deci)\n",
    "print(\"\\n The Hexadecimal Value of the number is :\", hdn[2:].upper())  "
   ]
  },
  {
   "cell_type": "code",
   "execution_count": 8,
   "metadata": {},
   "outputs": [
    {
     "name": "stdout",
     "output_type": "stream",
     "text": [
      "Enter the character:K\n",
      "The ascii vaalue of the character K is 75\n"
     ]
    }
   ],
   "source": [
    "#find the ascii of character\n",
    "c=input(\"Enter the character:\")\n",
    "print(\"The ascii vaalue of the character\",c,\"is\",ord(c))"
   ]
  },
  {
   "cell_type": "code",
   "execution_count": 3,
   "metadata": {},
   "outputs": [
    {
     "name": "stdout",
     "output_type": "stream",
     "text": [
      "Enter the number:54\n",
      "Enter the second number:87\n",
      "Operations options: 1.addition,2.substraction,3.multiplication,4.division.\n",
      "Enter the option numeral for your choice of operation:1\n",
      "The addition of numbers: 141.0\n"
     ]
    }
   ],
   "source": [
    "#A basic calculator \n",
    "x=float(input(\"Enter the number:\"))\n",
    "y=float(input(\"Enter the second number:\"))\n",
    "print(\"Operations options: 1.addition,2.substraction,3.multiplication,4.division.\")\n",
    "oper=int(input(\"Enter the option numeral for your choice of operation:\"))\n",
    "if oper==1:\n",
    "    add=x+y\n",
    "    print(\"The addition of numbers:\",add)\n",
    "elif oper==2:\n",
    "    sub=max(x,y)-min(x,y)\n",
    "    print(\"The substraction of numbers:\",sub)\n",
    "elif oper==3:\n",
    "    mul=x*y\n",
    "    print(\"The multiplication of numbers:\",mul)\n",
    "elif oper==4:\n",
    "    div=x/y\n",
    "    print(\"The division of numbers:\",div)    "
   ]
  },
  {
   "cell_type": "code",
   "execution_count": 2,
   "metadata": {},
   "outputs": [
    {
     "name": "stdout",
     "output_type": "stream",
     "text": [
      "Enter Decimal Number: 20\n"
     ]
    }
   ],
   "source": [
    "\n"
   ]
  },
  {
   "cell_type": "code",
   "execution_count": null,
   "metadata": {},
   "outputs": [],
   "source": []
  }
 ],
 "metadata": {
  "kernelspec": {
   "display_name": "Python 3",
   "language": "python",
   "name": "python3"
  },
  "language_info": {
   "codemirror_mode": {
    "name": "ipython",
    "version": 3
   },
   "file_extension": ".py",
   "mimetype": "text/x-python",
   "name": "python",
   "nbconvert_exporter": "python",
   "pygments_lexer": "ipython3",
   "version": "3.8.5"
  }
 },
 "nbformat": 4,
 "nbformat_minor": 4
}
