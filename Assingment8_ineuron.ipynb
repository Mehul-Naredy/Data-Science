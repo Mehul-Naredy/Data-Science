{
 "cells": [
  {
   "cell_type": "code",
   "execution_count": 42,
   "metadata": {},
   "outputs": [
    {
     "name": "stdout",
     "output_type": "stream",
     "text": [
      "Enter the no of rows in 1st matrix: 1\n",
      "Enter the no of columns in 1st matrix: 2\n",
      "Enter elements in matrices rowwise.\n",
      "2\n",
      "1\n",
      "[2, 1]\n",
      "Enter the no of rows in 2nd matrix: 2\n",
      "Enter the no of columns in 2nd matrix: 2\n",
      "1\n",
      "2\n",
      "3\n",
      "4\n",
      "[1, 2]\n",
      "[3, 4]\n",
      "The resultant 2 x 4 matrix is: \n",
      "[3, 3]\n",
      "[3, 4]\n"
     ]
    }
   ],
   "source": [
    "#Add of any two matrices\n",
    "\n",
    "\n",
    "r1=int(input('Enter the no of rows in 1st matrix: '))\n",
    "c1=int(input('Enter the no of columns in 1st matrix: '))\n",
    "print('Enter elements in matrices rowwise.')\n",
    "A=[]\n",
    "for i in range(r1):\n",
    "    a=[]\n",
    "    for j in range(c1):\n",
    "        a.append(int(input()))\n",
    "    A.append(a)\n",
    "for i in range(r1):    \n",
    "    print(A[i])\n",
    "    \n",
    "r2=int(input('Enter the no of rows in 2nd matrix: '))\n",
    "c2=int(input('Enter the no of columns in 2nd matrix: '))\n",
    "B=[]\n",
    "for i in range(r2):\n",
    "    b=[]\n",
    "    for j in range(c2):\n",
    "        b.append(int(input()))\n",
    "    B.append(b)\n",
    "for i in range(r2):  \n",
    "    print(B[i])  \n",
    "\n",
    "m=max(r1,r2,c1,c2)    \n",
    "result=[]\n",
    "for i in range(m):\n",
    "    c=[0]\n",
    "    c.append(0)\n",
    "    result.append(c)\n",
    "    \n",
    "for i in range(r1):\n",
    "    for j in range(c1):  \n",
    "            result[i][j]+= A[i][j]\n",
    "for i in range(r2):\n",
    "    for j in range(c2):  \n",
    "            result[i][j]+= B[i][j]\n",
    "            \n",
    "print('The resultant',m,'x',n,'matrix is: ')  \n",
    "\n",
    "for i in range(m):\n",
    "    print(result[i])"
   ]
  },
  {
   "cell_type": "code",
   "execution_count": 43,
   "metadata": {},
   "outputs": [
    {
     "name": "stdout",
     "output_type": "stream",
     "text": [
      "Enter the no of rows in 1st matrix: 1\n",
      "Enter the no of columns in 1st matrix: 2\n",
      "Enter elements in the matrices rowwise.\n",
      "2\n",
      "1\n",
      "[2, 1]\n",
      "Enter the no of rows in 2nd matrix: 2\n",
      "Enter the no of columns in 2nd matrix: 1\n",
      "2\n",
      "2\n",
      "[2]\n",
      "[2]\n",
      "The multiplication of the matrices is possible\n",
      "The order of resultant matrix will be 1 x 1\n",
      "The resultant matrix is: \n",
      "[6]\n"
     ]
    }
   ],
   "source": [
    "# Multiply of any two matrices\n",
    "\n",
    "r1=int(input('Enter the no of rows in 1st matrix: '))\n",
    "c1=int(input('Enter the no of columns in 1st matrix: '))\n",
    "print('Enter elements in the matrices rowwise.')\n",
    "A=[]\n",
    "for i in range(r1):\n",
    "    a=[]\n",
    "    for j in range(c1):\n",
    "        a.append(int(input()))\n",
    "    A.append(a)\n",
    "for i in range(r1):    \n",
    "    print(A[i])\n",
    "\n",
    "r2=int(input('Enter the no of rows in 2nd matrix: '))\n",
    "c2=int(input('Enter the no of columns in 2nd matrix: '))\n",
    "B=[]\n",
    "for i in range(r2):\n",
    "    b=[]\n",
    "    for j in range(c2):\n",
    "        b.append(int(input()))\n",
    "    B.append(b)\n",
    "for i in range(r2):  \n",
    "    print(B[i])  \n",
    "    \n",
    "if c1==r2 :\n",
    "    print('The multiplication of the matrices is possible')\n",
    "else:\n",
    "    print('The multiplication of the two matrix is not possible.')\n",
    "\n",
    "    \n",
    "print('The order of resultant matrix will be',r1,'x',c2)\n",
    "result=[]\n",
    "for i in range(r1):\n",
    "    c=[0]\n",
    "    if c2!=1:\n",
    "        c.append(0)\n",
    "    result.append(c)\n",
    "    \n",
    "for i in range(len(A)):\n",
    "    for j in range(len(B[0])):\n",
    "        for k in  range(len(B)):\n",
    "            result[i][j]+= A[i][k] * B[k][j]\n",
    "print('The resultant matrix is: ')  \n",
    "\n",
    "for i in range(r1):\n",
    "    print(result[i])   "
   ]
  },
  {
   "cell_type": "code",
   "execution_count": 3,
   "metadata": {},
   "outputs": [
    {
     "name": "stdout",
     "output_type": "stream",
     "text": [
      "Enter the no of rows in 1st matrix: 2\n",
      "Enter the no of columns in 1st matrix: 2\n",
      "Enter elements in the matrices rowwise.\n",
      "1\n",
      "2\n",
      "3\n",
      "4\n",
      "[1, 2]\n",
      "[3, 4]\n",
      "The Transpose of matrix A is: \n",
      "[1, 3]\n",
      "[2, 4]\n"
     ]
    }
   ],
   "source": [
    "#Transpose of any matrix\n",
    "\n",
    "r=int(input('Enter the no of rows in 1st matrix: '))\n",
    "c=int(input('Enter the no of columns in 1st matrix: '))\n",
    "print('Enter elements in the matrices rowwise.')\n",
    "A=[]\n",
    "for i in range(r):\n",
    "    a=[]\n",
    "    for j in range(c):\n",
    "        a.append(int(input()))\n",
    "    A.append(a)\n",
    "for i in range(r):    \n",
    "    print(A[i])\n",
    "    \n",
    "B=[]\n",
    "for i in range(c):\n",
    "    b=[0]\n",
    "    for j in range(r-1):\n",
    "        b.append(0)\n",
    "    B.append(b)\n",
    "\n",
    "for i in range(r):\n",
    "    for j in range(c):\n",
    "            B[j][i]=A[i][j]\n",
    "\n",
    "print('The Transpose of matrix A is: ')    \n",
    "for i in range(c):\n",
    "    print(B[i])"
   ]
  },
  {
   "cell_type": "code",
   "execution_count": 38,
   "metadata": {},
   "outputs": [
    {
     "name": "stdout",
     "output_type": "stream",
     "text": [
      "Enter the sentence:\n",
      "here you go\n",
      "The sorted sentence is:\n",
      "go\n",
      "here\n",
      "you\n"
     ]
    }
   ],
   "source": [
    "#Sort words in alphabetic order\n",
    "\n",
    "print('Enter the sentence:')\n",
    "s=input()\n",
    "words=s.split()\n",
    "words.sort()\n",
    "print('The sorted sentence is:') \n",
    "for word in words:\n",
    "    print(word)"
   ]
  },
  {
   "cell_type": "code",
   "execution_count": 40,
   "metadata": {},
   "outputs": [
    {
     "name": "stdout",
     "output_type": "stream",
     "text": [
      "Enter the sentence:\n",
      "hello! here you !!!\n",
      "hellohereyou\n"
     ]
    }
   ],
   "source": [
    "#Remove punctuation from the string\n",
    "\n",
    "print('Enter the sentence:')\n",
    "s=input()\n",
    "punctuation='''!()-[]{};:'\"\\, <>./?@#$%^&*_~'''\n",
    "new=''\n",
    "for x in s:\n",
    "    if x not in punctuation:\n",
    "        new=new+x\n",
    "print(new)"
   ]
  }
 ],
 "metadata": {
  "kernelspec": {
   "display_name": "Python 3",
   "language": "python",
   "name": "python3"
  },
  "language_info": {
   "codemirror_mode": {
    "name": "ipython",
    "version": 3
   },
   "file_extension": ".py",
   "mimetype": "text/x-python",
   "name": "python",
   "nbconvert_exporter": "python",
   "pygments_lexer": "ipython3",
   "version": "3.8.5"
  }
 },
 "nbformat": 4,
 "nbformat_minor": 4
}
