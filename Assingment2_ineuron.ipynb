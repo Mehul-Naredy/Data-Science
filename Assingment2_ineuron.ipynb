{
 "cells": [
  {
   "cell_type": "code",
   "execution_count": 13,
   "metadata": {},
   "outputs": [
    {
     "name": "stdout",
     "output_type": "stream",
     "text": [
      "Enter the distance in kilometers:50\n",
      "50.0 km is 31.07 miles\n"
     ]
    }
   ],
   "source": [
    "#Converion of kilometers to miles\n",
    "K= float(input(\"Enter the distance in kilometers:\"))\n",
    "mi=round(K/1.609344,2)\n",
    "print(K,\"km is\",mi,\"miles\")"
   ]
  },
  {
   "cell_type": "code",
   "execution_count": 12,
   "metadata": {},
   "outputs": [
    {
     "name": "stdout",
     "output_type": "stream",
     "text": [
      "Enter the temperature in degree Celcius:100\n",
      "100.0 degree Celcius is 212.0 degree Fahrenheit\n"
     ]
    }
   ],
   "source": [
    "#Conversion of Celcius to Fahrenheit\n",
    "C= float(input(\"Enter the temperature in degree Celcius:\"))\n",
    "F= C*(9/5)+32\n",
    "print(C,\"degree Celcius is\",F,\"degree Fahrenheit\")"
   ]
  },
  {
   "cell_type": "code",
   "execution_count": 17,
   "metadata": {},
   "outputs": [
    {
     "name": "stdout",
     "output_type": "stream",
     "text": [
      "Enter the year:2021\n",
      "Enter the month:03\n",
      "     March 2021\n",
      "Mo Tu We Th Fr Sa Su\n",
      " 1  2  3  4  5  6  7\n",
      " 8  9 10 11 12 13 14\n",
      "15 16 17 18 19 20 21\n",
      "22 23 24 25 26 27 28\n",
      "29 30 31\n",
      "\n"
     ]
    }
   ],
   "source": [
    "#Display calender of a month of specific year\n",
    "\n",
    "import calendar\n",
    "\n",
    "yy=int(input(\"Enter the year:\"))\n",
    "mm=int(input(\"Enter the month:\"))\n",
    "print(calendar.month(yy,mm))\n",
    "\n",
    "# Referenced from Online. Learnt about calendar module in pyhton"
   ]
  },
  {
   "cell_type": "code",
   "execution_count": 11,
   "metadata": {},
   "outputs": [
    {
     "name": "stdout",
     "output_type": "stream",
     "text": [
      "Compare your quadratic equation to ax^2+bx+c and enter the values of:\n",
      "a is 1\n",
      "b is 2\n",
      "c is 1\n",
      "The roots of the equation are real, equal if discriminant is 0, different if discriminant is greater than 0. The discriminant of the equation is  0\n",
      "The roots of the equation are: -1.0 -1.0\n"
     ]
    }
   ],
   "source": [
    "#Solve Quadratic equation\n",
    "print(\"Compare your quadratic equation to ax^2+bx+c and enter the values of:\")\n",
    "a=int(input(\"a is \"))\n",
    "b=int(input(\"b is \"))\n",
    "c=int(input(\"c is \"))\n",
    "D= (b**2)-(4*a*c)\n",
    "print(\"The roots of the equation are real, equal if discriminant is 0, different if discriminant is greater than 0.\",\"The discriminant of the equation is \",D)\n",
    "if D>0 or D==0 :\n",
    "    x1 = ((-b)+math.sqrt(D))/(2*a)\n",
    "    x2=  ((-b)-math.sqrt(D))/(2*a)\n",
    "    print(\"The roots of the equation are:\",x1,x2)\n",
    "elif D<0 :\n",
    "        print(\"The roots of the equation is complex and different.\")"
   ]
  },
  {
   "cell_type": "code",
   "execution_count": null,
   "metadata": {},
   "outputs": [],
   "source": [
    "# Swapping without using temp\n",
    "# Done in assingment1"
   ]
  }
 ],
 "metadata": {
  "kernelspec": {
   "display_name": "Python 3",
   "language": "python",
   "name": "python3"
  },
  "language_info": {
   "codemirror_mode": {
    "name": "ipython",
    "version": 3
   },
   "file_extension": ".py",
   "mimetype": "text/x-python",
   "name": "python",
   "nbconvert_exporter": "python",
   "pygments_lexer": "ipython3",
   "version": "3.8.5"
  }
 },
 "nbformat": 4,
 "nbformat_minor": 4
}
