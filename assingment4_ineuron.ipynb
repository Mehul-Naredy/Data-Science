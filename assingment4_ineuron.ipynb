{
 "cells": [
  {
   "cell_type": "code",
   "execution_count": 4,
   "metadata": {},
   "outputs": [
    {
     "name": "stdout",
     "output_type": "stream",
     "text": [
      "Enter the number:4\n",
      "The factorial of 4 is 24\n"
     ]
    }
   ],
   "source": [
    "#To find a factorial of a number\n",
    "x=int(input(\"Enter the number:\"))\n",
    "if x==0:\n",
    "    print(\"The factorial of\",x,\"is 1.\")\n",
    "else:    \n",
    "    f=1\n",
    "    for i in range(2,x+1):\n",
    "        f=f*i\n",
    "    print(\"The factorial of\",x,\"is\",f)    "
   ]
  },
  {
   "cell_type": "code",
   "execution_count": 6,
   "metadata": {},
   "outputs": [
    {
     "name": "stdout",
     "output_type": "stream",
     "text": [
      "Enter the number:10\n",
      "The multiplication table of n:\n",
      "10 x 1 = 10\n",
      "10 x 2 = 20\n",
      "10 x 3 = 30\n",
      "10 x 4 = 40\n",
      "10 x 5 = 50\n",
      "10 x 6 = 60\n",
      "10 x 7 = 70\n",
      "10 x 8 = 80\n",
      "10 x 9 = 90\n",
      "10 x 10 = 100\n"
     ]
    }
   ],
   "source": [
    "#To display the multiplication table\n",
    "x=int(input(\"Enter the number:\"))\n",
    "print(\"The multiplication table of n:\")\n",
    "for i in range(1,x+1):\n",
    "    print(x,\"x\",i,\"=\",x*i)        "
   ]
  },
  {
   "cell_type": "code",
   "execution_count": 13,
   "metadata": {},
   "outputs": [
    {
     "name": "stdout",
     "output_type": "stream",
     "text": [
      "Enter the n for n terms:8\n",
      "The fibonacci sequence is:\n",
      "0\n",
      "1\n",
      "1\n",
      "2\n",
      "3\n",
      "5\n",
      "8\n",
      "13\n"
     ]
    }
   ],
   "source": [
    "#To print fibonacci sequence\n",
    "n=int(input(\"Enter the n-value for n terms:\"))\n",
    "n1,n2=0,1\n",
    "count=0\n",
    "if n<0:\n",
    "    print(\"Please enter positive n.\")\n",
    "elif n==0:\n",
    "    print(\"The fibonacci sequence upto\",n,\"is\",n1)\n",
    "else:    \n",
    "    print(\"The fibonacci sequence is:\")\n",
    "    while count<n:\n",
    "        print(n1)\n",
    "        nth=n1+n2\n",
    "        n1=n2\n",
    "        n2=nth\n",
    "        count+=1"
   ]
  },
  {
   "cell_type": "code",
   "execution_count": 17,
   "metadata": {},
   "outputs": [
    {
     "name": "stdout",
     "output_type": "stream",
     "text": [
      "Enter the number:153\n",
      "153 is an armstrong number.\n"
     ]
    }
   ],
   "source": [
    "#chek armstrong number\n",
    "n=int(input(\"Enter the number:\"))\n",
    "x=n\n",
    "arm=0\n",
    "while n>0:\n",
    "    d=n%10\n",
    "    n=n//10\n",
    "    arm+=d**3\n",
    "if arm==x:\n",
    "    print(x,\"is an armstrong number.\")\n",
    "else:\n",
    "    print(x,\"is not an armstrong number.\")"
   ]
  },
  {
   "cell_type": "code",
   "execution_count": 1,
   "metadata": {},
   "outputs": [
    {
     "name": "stdout",
     "output_type": "stream",
     "text": [
      "Enter the range n1 to n2:\n",
      "1\n",
      "200\n",
      "The armstrong numbers are:\n",
      "1\n",
      "153\n"
     ]
    }
   ],
   "source": [
    "#print armstrong number in a range\n",
    "print(\"Enter the range n1 to n2:\")\n",
    "n1=int(input())\n",
    "n2=int(input())\n",
    "print(\"The armstrong numbers are:\")\n",
    "for i in range(n1,n2+1):\n",
    "    n=i\n",
    "    arm=0\n",
    "    while n>0:\n",
    "        d=n%10\n",
    "        n=n//10\n",
    "        arm+=d**3\n",
    "    if arm==i:\n",
    "        print(i)"
   ]
  },
  {
   "cell_type": "code",
   "execution_count": 2,
   "metadata": {},
   "outputs": [
    {
     "name": "stdout",
     "output_type": "stream",
     "text": [
      "Enter the n value for n terms:5\n",
      "The sum of n natural numbers 15.0\n"
     ]
    }
   ],
   "source": [
    "#sum of natural numbers\n",
    "n=int(input(\"Enter the n value for n terms:\"))\n",
    "print(\"The sum of n natural numbers\",(n*(n+1))/2)"
   ]
  }
 ],
 "metadata": {
  "kernelspec": {
   "display_name": "Python 3",
   "language": "python",
   "name": "python3"
  },
  "language_info": {
   "codemirror_mode": {
    "name": "ipython",
    "version": 3
   },
   "file_extension": ".py",
   "mimetype": "text/x-python",
   "name": "python",
   "nbconvert_exporter": "python",
   "pygments_lexer": "ipython3",
   "version": "3.8.5"
  }
 },
 "nbformat": 4,
 "nbformat_minor": 4
}
