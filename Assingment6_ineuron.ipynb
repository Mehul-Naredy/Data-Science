{
 "cells": [
  {
   "cell_type": "code",
   "execution_count": 2,
   "metadata": {},
   "outputs": [
    {
     "name": "stdout",
     "output_type": "stream",
     "text": [
      "Enter the n value for terms in fibonacci sequence:8\n",
      "The fibonacci sequence is :\n",
      "0\n",
      "1\n",
      "1\n",
      "2\n",
      "3\n",
      "5\n",
      "8\n",
      "13\n"
     ]
    }
   ],
   "source": [
    "#Display the Fibonacci Sequence using recursion\n",
    "def fibonacci(b):\n",
    "    if b==0:\n",
    "        return 0\n",
    "    elif b==1:\n",
    "        return 1\n",
    "    else:\n",
    "        return (fibonacci(b-1)+fibonacci(b-2))\n",
    "\n",
    "#main    \n",
    "n=int(input(\"Enter the n value for terms in fibonacci sequence:\"))\n",
    "print(\"The fibonacci sequence is :\")\n",
    "for i in range(0,n):\n",
    "    print(fibonacci(i))"
   ]
  },
  {
   "cell_type": "code",
   "execution_count": 4,
   "metadata": {},
   "outputs": [
    {
     "name": "stdout",
     "output_type": "stream",
     "text": [
      "Enter the number :4\n",
      "The factorial of the number is: 24\n"
     ]
    }
   ],
   "source": [
    "#Display the factorial using recurssion\n",
    "def factorial(f):\n",
    "    if f==0 or f==1:\n",
    "        return 1\n",
    "    else:\n",
    "        return (f*factorial(f-1))\n",
    "\n",
    "#main\n",
    "n=int(input(\"Enter the number :\"))\n",
    "print(\"The factorial of the number is:\",factorial(n))"
   ]
  },
  {
   "cell_type": "code",
   "execution_count": 6,
   "metadata": {},
   "outputs": [
    {
     "name": "stdout",
     "output_type": "stream",
     "text": [
      "Enter height and weight\n",
      " If wish to enter  in feet and kgs : enter 1 \n",
      " If wish to enter in meters and pound : enter 2 \n",
      " If wish to enter in feet and pounds: enter 3 \n",
      " If wish to enter in meters and kgs: enter 4 \n",
      "4\n",
      "Enter the height in meters: 1.7272\n",
      "Enter the weight in kgs: 78\n",
      "The B.M.I is : 26.15 kg/m.sq\n"
     ]
    }
   ],
   "source": [
    "#Display B.M.I \n",
    "print(\"Enter height and weight\")\n",
    "n=int(input(' If wish to enter  in feet and kgs : enter 1 \\n If wish to enter in meters and pound : enter 2 \\n If wish to enter in feet and pounds: enter 3 \\n If wish to enter in meters and kgs: enter 4 \\n'))\n",
    "\n",
    "if n==1 :\n",
    "    f=float(input(\"Enter the height in feet:\"))\n",
    "    kgs=float(input(\"Enter the weight in kgs:\"))\n",
    "    print(\"The B.M.I is :\",round(kgs/(f*0.304)**2,2),\"kg/m.sq\")\n",
    "elif n==2 :\n",
    "    m=float(input(\"Enter the height in meter:\"))  \n",
    "    p=float(input(\"Enter the weight in pounds:\"))\n",
    "    print(\"The B.M.I is :\",round((p*0.45359237)/m**2,2),\"kg/m.sq\") \n",
    "elif n==3:\n",
    "    f=float(input(\"Enter the height in feet:\"))\n",
    "    p=float(input(\"Enter the weight in pounds:\"))    \n",
    "    print(\"The B.M.I is :\",round((p*0.45359237)/(f*0.304)**2,2),\"kg/m.sq\") \n",
    "elif n==4:            \n",
    "    m=float(input(\"Enter the height in meters: \"))\n",
    "    kgs=float(input(\"Enter the weight in kgs: \"))\n",
    "    print(\"The B.M.I is :\",round(kgs/m**2,2),\"kg/m.sq\")\n",
    "else:\n",
    "     print(\"Invalid input\")"
   ]
  },
  {
   "cell_type": "code",
   "execution_count": 14,
   "metadata": {},
   "outputs": [
    {
     "name": "stdout",
     "output_type": "stream",
     "text": [
      "Enter the number :2\n",
      "The natural log of the number is : 0.6931471805599453\n"
     ]
    }
   ],
   "source": [
    "#Calculate the natural logarithm of a number\n",
    "import math \n",
    "n=int(input('Enter the number :'))\n",
    "print('The natural log of the number is :',math.log(n))"
   ]
  },
  {
   "cell_type": "code",
   "execution_count": 17,
   "metadata": {},
   "outputs": [
    {
     "name": "stdout",
     "output_type": "stream",
     "text": [
      "Enter the n -value for terms of natural number :2\n",
      "The cubic sum of n natural number is : 9.0\n"
     ]
    }
   ],
   "source": [
    "# Cubic sum of first n natural number.\n",
    "n=int(input('Enter the n -value for terms of natural number :'))\n",
    "print('The cubic sum of n natural number is :',((n**2)*((n+1)**2))/4)"
   ]
  },
  {
   "cell_type": "code",
   "execution_count": null,
   "metadata": {},
   "outputs": [],
   "source": []
  }
 ],
 "metadata": {
  "kernelspec": {
   "display_name": "Python 3",
   "language": "python",
   "name": "python3"
  },
  "language_info": {
   "codemirror_mode": {
    "name": "ipython",
    "version": 3
   },
   "file_extension": ".py",
   "mimetype": "text/x-python",
   "name": "python",
   "nbconvert_exporter": "python",
   "pygments_lexer": "ipython3",
   "version": "3.8.5"
  }
 },
 "nbformat": 4,
 "nbformat_minor": 4
}
