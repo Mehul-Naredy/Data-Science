{
 "cells": [
  {
   "cell_type": "code",
   "execution_count": 2,
   "metadata": {},
   "outputs": [
    {
     "name": "stdout",
     "output_type": "stream",
     "text": [
      "Hello World!\n"
     ]
    }
   ],
   "source": [
    "print(\"Hello World!\")"
   ]
  },
  {
   "cell_type": "code",
   "execution_count": 13,
   "metadata": {},
   "outputs": [
    {
     "name": "stdout",
     "output_type": "stream",
     "text": [
      "Enter a number: 10\n",
      "Enter another number:5\n",
      "The addition of the numbers is: 15.0\n",
      "The division of the numbers is: 2.0\n"
     ]
    }
   ],
   "source": [
    "a=float(input(\"Enter a number: \"))\n",
    "b=float(input(\"Enter another number:\"))\n",
    "print(\"The addition of the numbers is:\",a+b)\n",
    "print(\"The division of the numbers is:\",a/b)"
   ]
  },
  {
   "cell_type": "code",
   "execution_count": 26,
   "metadata": {},
   "outputs": [
    {
     "name": "stdout",
     "output_type": "stream",
     "text": [
      "Enter the type of triangle:right-angled\n",
      "Enter the base side of triangle:5\n",
      "Enter the height of the triangle:10\n",
      "The area of the right-angled triangle is: 25.0 sq. units\n"
     ]
    }
   ],
   "source": [
    "Tri=str(input(\"Enter the type of triangle:\"))\n",
    "if Tri==\"right-angled\":\n",
    "    b=float(input(\"Enter the base side of triangle:\"))\n",
    "    h=float(input(\"Enter the height of the triangle:\"))\n",
    "    print(\"The area of the right-angled triangle is:\",(b*h)/2,\"sq. units\")\n",
    "elif Tri==\"equilateral\":\n",
    "    a=float(input(\"Enter the side of the triangle:\"))\n",
    "    print(\"The area of the equilateral triangle is:\",((sqrt(3))*a^2)/4,\"sq.units\")\n",
    "elif Tri==\"isosceles\":\n",
    "    bs=float(input(\"Enter the base side of the triangle:\"))\n",
    "    si=float(input(\"Enter the equal sides of the triangle: \"))\n",
    "    print(\"The area of the isoscles triangle is:\",(bs*(sqrt(si^2-(bs^2/4))))/2,\"sq. units\")\n",
    "else :\n",
    "    Print(\"Enter the three sides of the triangle:\")\n",
    "    x,y,z=input(),input(),input()\n",
    "    s=(x+y+z)/2\n",
    "    area=sqrt(s*(s-x)*(s-y)*(s-z))\n",
    "    print(\"The area of the triangle is:\",area,\"sq. units\")\n",
    "    \n",
    "\n",
    "\n",
    "\n"
   ]
  },
  {
   "cell_type": "code",
   "execution_count": 37,
   "metadata": {},
   "outputs": [
    {
     "name": "stdout",
     "output_type": "stream",
     "text": [
      "Enter the numbers you would like to swap:\n",
      "a is 6\n",
      "b is 9\n",
      "The number is swapped: a is 9 and b is 6\n"
     ]
    }
   ],
   "source": [
    "print(\"Enter the numbers you would like to swap:\")\n",
    "a=int(input(\"a is \"))\n",
    "b=int(input(\"b is \"))\n",
    "a=a+b\n",
    "b=a-b\n",
    "a=a-b\n",
    "print(\"The number is swapped:\",\"a is\",a,\"and\",\"b is\",b)"
   ]
  },
  {
   "cell_type": "code",
   "execution_count": 36,
   "metadata": {},
   "outputs": [
    {
     "name": "stdout",
     "output_type": "stream",
     "text": [
      "34\n"
     ]
    }
   ],
   "source": [
    "import random\n",
    "print(random.randint(0,88))"
   ]
  },
  {
   "cell_type": "code",
   "execution_count": null,
   "metadata": {},
   "outputs": [],
   "source": []
  }
 ],
 "metadata": {
  "kernelspec": {
   "display_name": "Python 3",
   "language": "python",
   "name": "python3"
  },
  "language_info": {
   "codemirror_mode": {
    "name": "ipython",
    "version": 3
   },
   "file_extension": ".py",
   "mimetype": "text/x-python",
   "name": "python",
   "nbconvert_exporter": "python",
   "pygments_lexer": "ipython3",
   "version": "3.8.5"
  }
 },
 "nbformat": 4,
 "nbformat_minor": 4
}
