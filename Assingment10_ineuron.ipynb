{
 "cells": [
  {
   "cell_type": "code",
   "execution_count": 1,
   "metadata": {},
   "outputs": [
    {
     "name": "stdout",
     "output_type": "stream",
     "text": [
      "Enter the length of the list: 5\n",
      "Enter numbers in the list\n",
      "1\n",
      "6\n",
      "3\n",
      "4\n",
      "8\n",
      "THe sum of elements of the list [1.0, 6.0, 3.0, 4.0, 8.0]  is : 22.0\n"
     ]
    }
   ],
   "source": [
    "# sum of elements in the list\n",
    "l=[]\n",
    "n=int(input('Enter the length of the list: '))\n",
    "print('Enter numbers in the list')\n",
    "for i in range(n):\n",
    "    l.insert(i,float(input()))\n",
    "#sum of elements\n",
    "s=0\n",
    "for j in range(len(l)):\n",
    "    s+=l[j]\n",
    "print(\"THe sum of elements of the list\",l,\" is :\",round(s,2))    "
   ]
  },
  {
   "cell_type": "code",
   "execution_count": 3,
   "metadata": {},
   "outputs": [
    {
     "name": "stdout",
     "output_type": "stream",
     "text": [
      "Enter the length of the list: 5\n",
      "Enter numbers in the list\n",
      "1\n",
      "6\n",
      "3\n",
      "4\n",
      "8\n",
      "THe multiplication of elements of the list [1.0, 6.0, 3.0, 4.0, 8.0] is : 576.0\n"
     ]
    }
   ],
   "source": [
    "#multiply all elements in the list\n",
    "l=[]\n",
    "n=int(input('Enter the length of the list: '))\n",
    "print('Enter numbers in the list')\n",
    "for i in range(n):\n",
    "    l.insert(i,float(input()))\n",
    "#multiply all elements\n",
    "s=1\n",
    "for j in range(len(l)):\n",
    "    s*=l[j]\n",
    "print(\"THe multiplication of elements of the list\",l,\"is :\",round(s,2))    "
   ]
  },
  {
   "cell_type": "code",
   "execution_count": 4,
   "metadata": {},
   "outputs": [
    {
     "name": "stdout",
     "output_type": "stream",
     "text": [
      "Enter the length of the list: 5\n",
      "Enter numbers in the list\n",
      "1\n",
      "6\n",
      "3\n",
      "4\n",
      "8\n",
      "the smallest element in the list [1.0, 6.0, 3.0, 4.0, 8.0] is: 1.0\n"
     ]
    }
   ],
   "source": [
    "#smallest number in the list\n",
    "l=[]\n",
    "n=int(input('Enter the length of the list: '))\n",
    "print('Enter numbers in the list')\n",
    "for i in range(n):\n",
    "    l.insert(i,float(input()))\n",
    "#smallest element\n",
    "min=l[0]\n",
    "for j in range(1,len(l)-1):\n",
    "    if min>l[j]:\n",
    "        min=l[j]\n",
    "print(\"the smallest element in the list\",l,\"is:\",min)    "
   ]
  },
  {
   "cell_type": "code",
   "execution_count": 5,
   "metadata": {},
   "outputs": [
    {
     "name": "stdout",
     "output_type": "stream",
     "text": [
      "Enter the length of the list: 5\n",
      "Enter numbers in the list\n",
      "1\n",
      "3\n",
      "6\n",
      "4\n",
      "8\n",
      "the smallest element in the list [1.0, 3.0, 6.0, 4.0, 8.0] is: 8.0\n"
     ]
    }
   ],
   "source": [
    "#largest number in the list\n",
    "l=[]\n",
    "n=int(input('Enter the length of the list: '))\n",
    "print('Enter numbers in the list')\n",
    "for i in range(n):\n",
    "    l.insert(i,float(input()))\n",
    "#largest element\n",
    "maxi=l[0]\n",
    "for j in range(1,len(l)):\n",
    "    if maxi<l[j]:\n",
    "        maxi=l[j]\n",
    "print(\"the smallest element in the list\",l,\"is:\",maxi) "
   ]
  },
  {
   "cell_type": "code",
   "execution_count": 6,
   "metadata": {},
   "outputs": [
    {
     "name": "stdout",
     "output_type": "stream",
     "text": [
      "Enter the length of the list: 5\n",
      "Enter numbers in the list\n",
      "1\n",
      "3\n",
      "6\n",
      "4\n",
      "8\n",
      "The second largest number of the list  [1.0, 3.0, 6.0, 4.0, 8.0] is :\n",
      "6.0\n"
     ]
    }
   ],
   "source": [
    "#second largest number in the list\n",
    "\n",
    "l=[]\n",
    "n=int(input('Enter the length of the list: '))\n",
    "print('Enter numbers in the list')\n",
    "for i in range(n):\n",
    "    l.insert(i,float(input()))\n",
    "#second largest element\n",
    "print(\"The second largest number of the list \",l,\"is :\")\n",
    "maxi=l[0]\n",
    "for j in range(1,len(l)):\n",
    "    if maxi<l[j]:\n",
    "        second_max=maxi\n",
    "        maxi=l[j]    \n",
    "print(second_max)"
   ]
  },
  {
   "cell_type": "code",
   "execution_count": 7,
   "metadata": {},
   "outputs": [
    {
     "name": "stdout",
     "output_type": "stream",
     "text": [
      "Enter the length of the list: 5\n",
      "Enter numbers in the list\n",
      "1\n",
      "6\n",
      "2\n",
      "4\n",
      "8\n",
      "In the list [1.0, 6.0, 2.0, 4.0, 8.0]\n",
      "The largest element: 8.0\n",
      "The smallest element: 1.0\n",
      "The second largest element: 6.0\n",
      "The second smallest element: 2.0\n"
     ]
    }
   ],
   "source": [
    "# smallest, largest, second largest and second smallest in list using sort()\n",
    "l=[]\n",
    "n=int(input('Enter the length of the list: '))\n",
    "print('Enter numbers in the list')\n",
    "for i in range(n):\n",
    "    l.insert(i,float(input()))\n",
    "print('In the list',l)    \n",
    "l.sort()\n",
    "print('The largest element:',l[-1])\n",
    "print('The smallest element:',l[0])\n",
    "print('The second largest element:',l[-2])\n",
    "print('The second smallest element:',l[1])"
   ]
  },
  {
   "cell_type": "code",
   "execution_count": 9,
   "metadata": {},
   "outputs": [
    {
     "name": "stdout",
     "output_type": "stream",
     "text": [
      "Enter the length of the list: 5\n",
      "Enter numbers in the list\n",
      "1\n",
      "9\n",
      "7\n",
      "2\n",
      "4\n",
      "Enter the value N for N-largest elements of the list 3\n",
      "The N-largest elements of list [1.0, 9.0, 7.0, 2.0, 4.0] is:\n",
      "[4.0, 7.0, 9.0]\n"
     ]
    }
   ],
   "source": [
    "# N largest elements in the list\n",
    "\n",
    "l=[]\n",
    "n=int(input('Enter the length of the list: '))\n",
    "print('Enter numbers in the list')\n",
    "for i in range(n):\n",
    "    l.insert(i,float(input()))\n",
    "    \n",
    "# N largest elements\n",
    "N=int(input('Enter the value N for N-largest elements of the list '))\n",
    "print('The N-largest elements of list',l,'is:')\n",
    "l.sort()\n",
    "print(l[-N:])"
   ]
  },
  {
   "cell_type": "code",
   "execution_count": 10,
   "metadata": {},
   "outputs": [
    {
     "name": "stdout",
     "output_type": "stream",
     "text": [
      "Enter the length of the list: 6\n",
      "Enter numbers in the list:\n",
      "1\n",
      "2\n",
      "3\n",
      "5\n",
      "9\n",
      "14\n",
      "The even numbers in the list:\n",
      "2.0\n",
      "14.0\n"
     ]
    }
   ],
   "source": [
    "#even numbers in the list\n",
    "l=[]\n",
    "n=int(input('Enter the length of the list: '))\n",
    "print('Enter numbers in the list:')\n",
    "for i in range(n):\n",
    "    l.insert(i,float(input()))\n",
    "#even elements\n",
    "print('The even numbers in the list:',l,'is:')\n",
    "for i in range(len(l)):\n",
    "    if (l[i]%2)==0:\n",
    "        print(l[i])"
   ]
  },
  {
   "cell_type": "code",
   "execution_count": 11,
   "metadata": {},
   "outputs": [
    {
     "name": "stdout",
     "output_type": "stream",
     "text": [
      "Enter the length of the list: 7\n",
      "Enter numbers in the list:\n",
      "1\n",
      "6\n",
      "8\n",
      "4\n",
      "52\n",
      "7\n",
      "3\n",
      "The odd numbers in the list: [1.0, 6.0, 8.0, 4.0, 52.0, 7.0, 3.0] is:\n",
      "1.0\n",
      "7.0\n",
      "3.0\n"
     ]
    }
   ],
   "source": [
    "#odd numbers in the list\n",
    "l=[]\n",
    "n=int(input('Enter the length of the list: '))\n",
    "print('Enter numbers in the list:')\n",
    "for i in range(n):\n",
    "    l.insert(i,float(input()))\n",
    "#even elements\n",
    "print('The odd numbers in the list:',l,'is:')\n",
    "for i in range(len(l)):\n",
    "    if (l[i]%2)!=0:\n",
    "        print(l[i])"
   ]
  },
  {
   "cell_type": "code",
   "execution_count": 17,
   "metadata": {},
   "outputs": [
    {
     "name": "stdout",
     "output_type": "stream",
     "text": [
      "The list now is: [[], [1, 6, 7], [2, 2, 1], []]\n",
      "New list with no empty list in it is: [[1, 6, 7], [2, 2, 1]]\n"
     ]
    }
   ],
   "source": [
    "# remove empty list fromt a list\n",
    "l=[[],[1,6,7],[2,2,1],[]]\n",
    "\n",
    "print('The list now is:',l)    \n",
    "#removing empty list in list \n",
    "new_l=[]\n",
    "for k in range(len(l)):\n",
    "    if l[k]!=[]:\n",
    "        new_l.insert(k,l[k]) \n",
    "print('New list with no empty list in it is:',new_l)        "
   ]
  },
  {
   "cell_type": "code",
   "execution_count": 13,
   "metadata": {},
   "outputs": [
    {
     "name": "stdout",
     "output_type": "stream",
     "text": [
      "Enter the length of the list: 5\n",
      "Enter numbers in the list:\n",
      "1\n",
      "7\n",
      "8\n",
      "4.2\n",
      "6\n",
      "The clone of the original list is l_copy-> [1.0, 7.0, 8.0, 4.2, 6.0]\n"
     ]
    }
   ],
   "source": [
    "#Copying or Cloning of a list\n",
    "l=[]\n",
    "n=int(input('Enter the length of the list: '))\n",
    "print('Enter numbers in the list:')\n",
    "for i in range(n):\n",
    "    l.insert(i,float(input()))\n",
    "#copying or cloning\n",
    "l_copy=list(l)\n",
    "print('The clone of the original list is l_copy->',l_copy)"
   ]
  },
  {
   "cell_type": "code",
   "execution_count": 12,
   "metadata": {},
   "outputs": [
    {
     "name": "stdout",
     "output_type": "stream",
     "text": [
      "Enter the length of the list: 5\n",
      "Enter numbers in the list:\n",
      "1\n",
      "3\n",
      "1\n",
      "2\n",
      "2\n",
      "Enter the element to count their occurrences:2\n",
      "The element 2.0 of the list occurs 2 times.\n"
     ]
    }
   ],
   "source": [
    "# count occurrences of element in the list\n",
    "l=[]\n",
    "n=int(input('Enter the length of the list: '))\n",
    "print('Enter numbers in the list:')\n",
    "for i in range(n):\n",
    "    l.insert(i,float(input()))\n",
    "#count occurrences\n",
    "x=float(input(\"Enter the element to count their occurrences:\"))\n",
    "count=0\n",
    "for i in range(len(l)):\n",
    "        if l[i]==x:\n",
    "                count+=1        \n",
    "print('The element',x,'of the list occurs',count,'times.')"
   ]
  }
 ],
 "metadata": {
  "kernelspec": {
   "display_name": "Python 3",
   "language": "python",
   "name": "python3"
  },
  "language_info": {
   "codemirror_mode": {
    "name": "ipython",
    "version": 3
   },
   "file_extension": ".py",
   "mimetype": "text/x-python",
   "name": "python",
   "nbconvert_exporter": "python",
   "pygments_lexer": "ipython3",
   "version": "3.8.5"
  }
 },
 "nbformat": 4,
 "nbformat_minor": 4
}
